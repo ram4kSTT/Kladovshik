{
  "nbformat": 4,
  "nbformat_minor": 0,
  "metadata": {
    "colab": {
      "name": "taksilivica",
      "provenance": [],
      "collapsed_sections": [],
      "authorship_tag": "ABX9TyNN8CM2y6Iw+aqHO9EPLx2N",
      "include_colab_link": true
    },
    "kernelspec": {
      "name": "python3",
      "display_name": "Python 3"
    }
  },
  "cells": [
    {
      "cell_type": "markdown",
      "metadata": {
        "id": "view-in-github",
        "colab_type": "text"
      },
      "source": [
        "<a href=\"https://colab.research.google.com/github/ram4kSTT/Kladovshik/blob/master/taksilivica.ipynb\" target=\"_parent\"><img src=\"https://colab.research.google.com/assets/colab-badge.svg\" alt=\"Open In Colab\"/></a>"
      ]
    },
    {
      "cell_type": "code",
      "metadata": {
        "id": "twEhWVGBC4F4",
        "colab_type": "code",
        "colab": {}
      },
      "source": [
        "from pybricks import ev3brick as brick\n",
        "from pybricks.ev3devices import (Motor, TouchSensor, ColorSensor,\n",
        "                                 InfraredSensor, UltrasonicSensor, GyroSensor)\n",
        "from pybricks.parameters import (Port, Stop, Direction, Button, Color,\n",
        "                                 SoundFile, ImageFile, Align)\n",
        "from pybricks.tools import print, wait, StopWatch\n",
        "from pybricks.robotics import DriveBase\n",
        "\n",
        "# Write your program here\n",
        "brick.sound.beep()\n",
        "#################################################################################################################\n",
        "# переменные и константы\n",
        "leftMotor = Motor(Port.B)\n",
        "rightMotor = Motor(Port.C)\n",
        "grabMotor = Motor(Port.D)\n",
        "colorSensorGruz = ColorSensor(Port.S1)\n",
        "colorSensorRight = ColorSensor(Port.S2)\n",
        "colorSensorLeft = ColorSensor(Port.S3)\n",
        "directionRotation = 1\n",
        "directionGrab = 1\n",
        "Const_turn_Angle = 400\n",
        "Const_turn_Speed_Left = 200\n",
        "Const_turn_Speed_Right = -200\n",
        "Const_Razvorot_Angle = 180\n",
        "Const_Razvorot_Speed_Left = 200\n",
        "Const_Razvorot_Speed_Right = 200\n",
        "Const_Grab_Speed = 200\n",
        "Const_Grab_angle = 150\n",
        "##################################################################################################################\n",
        "def turn():\n",
        "    leftMotor.reset_angle()\n",
        "    Const_turn_Speed_Left * directionRotation\n",
        "    Const_turn_Speed_Right * directionRotation\n",
        "    leftMotor.duty(Const_turn_Speed_Left)\n",
        "    rightMotor.duty(Const_turn_Speed_Right)\n",
        "    while(true):\n",
        "        angle = leftMotor.angle()\n",
        "        if(angle == Const_turn_Angle):\n",
        "            leftMotor.stop()\n",
        "            rightMotor.stop()\n",
        "            break\n",
        "def povorot():\n",
        "    leftMotor.reset_angle()\n",
        "    Const_turn_Speed_Left * directionRotation\n",
        "    Const_turn_Speed_Right * directionRotation\n",
        "    leftMotor.duty(Const_Razvorot_Speed_Left)\n",
        "    rightMotor.duty(Const_Razvorot_Speed_Right)\n",
        "    while(true):\n",
        "        angle = leftMotor.angle()\n",
        "        if(angle == Const_Razvorot_Angle):\n",
        "            leftMotor.stop()\n",
        "            rightMotor.stop()\n",
        "            break\n",
        "def grab():\n",
        "  grabMotor.reset_angle()\n",
        "    grabMotor * directionGrab\n",
        "    grabMotor.duty(Const_Grab_Speed)\n",
        "      while(true):\n",
        "        grabMotor.angle()\n",
        "        angleGrab = grabMotor.angle()\n",
        "          if(angleGrab == Const_Grab_angle ):\n",
        "              grabMotor.stop()\n",
        "              break\n"
      ],
      "execution_count": 0,
      "outputs": []
    }
  ]
}